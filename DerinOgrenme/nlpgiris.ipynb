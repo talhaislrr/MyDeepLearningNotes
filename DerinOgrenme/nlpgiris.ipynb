{
 "cells": [
  {
   "cell_type": "code",
   "execution_count": 3,
   "metadata": {},
   "outputs": [],
   "source": [
    "import tensorflow as tf\n",
    "\n",
    "from keras.layers import TextVectorization"
   ]
  },
  {
   "cell_type": "code",
   "execution_count": 4,
   "metadata": {},
   "outputs": [],
   "source": [
    "text_vectorization = TextVectorization()"
   ]
  },
  {
   "cell_type": "code",
   "execution_count": 5,
   "metadata": {},
   "outputs": [
    {
     "data": {
      "text/plain": [
       "['',\n",
       " '[UNK]',\n",
       " 'çok',\n",
       " 've',\n",
       " 'söyle',\n",
       " 'selam',\n",
       " 'hava',\n",
       " 'güzel',\n",
       " 'efe',\n",
       " 'ece',\n",
       " 'bugün',\n",
       " 'ali']"
      ]
     },
     "execution_count": 5,
     "metadata": {},
     "output_type": "execute_result"
    }
   ],
   "source": [
    "data = [\n",
    "    \"bugün hava çok güzel\",\n",
    "    \"Ali , Efe ve Ece\",\n",
    "    \"Selam Söyle\"\n",
    "]\n",
    "text_vectorization.adapt(data)\n",
    "text_vectorization.get_vocabulary()"
   ]
  },
  {
   "cell_type": "code",
   "execution_count": 6,
   "metadata": {},
   "outputs": [
    {
     "data": {
      "text/plain": [
       "<tf.Tensor: shape=(3, 4), dtype=int64, numpy=\n",
       "array([[10,  6,  2,  7],\n",
       "       [11,  8,  3,  9],\n",
       "       [ 5,  4,  0,  0]])>"
      ]
     },
     "execution_count": 6,
     "metadata": {},
     "output_type": "execute_result"
    }
   ],
   "source": [
    "vectorized_text = text_vectorization(data)\n",
    "vectorized_text\n"
   ]
  },
  {
   "cell_type": "code",
   "execution_count": 7,
   "metadata": {},
   "outputs": [],
   "source": [
    "import re\n",
    "import string"
   ]
  },
  {
   "cell_type": "code",
   "execution_count": 9,
   "metadata": {},
   "outputs": [],
   "source": [
    "def standardize_text(string_tensor):\n",
    "    # Convert to lowercase\n",
    "    string_tensor = tf.strings.lower(string_tensor)\n",
    "    \n",
    "    # Remove punctuation\n",
    "    string_tensor = tf.strings.regex_replace(string_tensor, '[%s]' % re.escape(string.punctuation), '')\n",
    "    \n",
    "    # Remove extra whitespace\n",
    "    string_tensor = tf.strings.regex_replace(string_tensor, '\\\\s+', ' ')\n",
    "    \n",
    "    # Strip leading/trailing whitespace\n",
    "    string_tensor = tf.strings.strip(string_tensor)\n",
    "    \n",
    "    return string_tensor"
   ]
  },
  {
   "cell_type": "code",
   "execution_count": 10,
   "metadata": {},
   "outputs": [],
   "source": [
    "def split_fn(string_tensor):\n",
    "    return tf.strings.split(string_tensor)\n",
    "\n"
   ]
  },
  {
   "cell_type": "code",
   "execution_count": 11,
   "metadata": {},
   "outputs": [
    {
     "data": {
      "text/plain": [
       "<tf.Tensor: shape=(3, 4), dtype=int64, numpy=\n",
       "array([[10,  6,  2,  7],\n",
       "       [11,  8,  3,  9],\n",
       "       [ 5,  4,  0,  0]])>"
      ]
     },
     "execution_count": 11,
     "metadata": {},
     "output_type": "execute_result"
    }
   ],
   "source": [
    "text_vectorization = TextVectorization(\n",
    "    standardize=standardize_text,\n",
    "    split=split_fn,\n",
    "    output_mode=\"int\"\n",
    ")\n",
    "text_vectorization.adapt(data)\n",
    "text_vectorization.get_vocabulary()\n",
    "vectorized_text = text_vectorization(data)\n",
    "vectorized_text"
   ]
  },
  {
   "cell_type": "code",
   "execution_count": 12,
   "metadata": {},
   "outputs": [
    {
     "data": {
      "text/plain": [
       "<tf.Tensor: shape=(4,), dtype=int64, numpy=array([10,  6,  2,  7])>"
      ]
     },
     "execution_count": 12,
     "metadata": {},
     "output_type": "execute_result"
    }
   ],
   "source": [
    "text = \"bugün hava çok güzel\"\n",
    "text_vectorization(text)"
   ]
  },
  {
   "cell_type": "code",
   "execution_count": 13,
   "metadata": {},
   "outputs": [
    {
     "name": "stderr",
     "output_type": "stream",
     "text": [
      "2025-01-08 23:23:21.797591: I tensorflow/core/framework/local_rendezvous.cc:404] Local rendezvous is aborting with status: OUT_OF_RANGE: End of sequence\n"
     ]
    }
   ],
   "source": [
    "text_dataset = tf.data.Dataset.from_tensor_slices([\n",
    "    \"kedi\",\n",
    "    \"aslan\",\n",
    "    \"yunus\"\n",
    "])\n",
    "vectorize_layer = TextVectorization(\n",
    "    max_tokens=5000,\n",
    "    output_sequence_length=4)\n",
    "vectorize_layer.adapt(text_dataset.batch(64))"
   ]
  },
  {
   "cell_type": "code",
   "execution_count": 15,
   "metadata": {},
   "outputs": [
    {
     "data": {
      "text/plain": [
       "['', '[UNK]', 'yunus', 'kedi', 'aslan']"
      ]
     },
     "execution_count": 15,
     "metadata": {},
     "output_type": "execute_result"
    }
   ],
   "source": [
    "vectorize_layer.get_vocabulary()\n"
   ]
  },
  {
   "cell_type": "code",
   "execution_count": 26,
   "metadata": {},
   "outputs": [
    {
     "name": "stderr",
     "output_type": "stream",
     "text": [
      "/opt/anaconda3/lib/python3.12/site-packages/keras/src/layers/core/embedding.py:90: UserWarning: Argument `input_length` is deprecated. Just remove it.\n",
      "  warnings.warn(\n"
     ]
    }
   ],
   "source": [
    "from keras.models import Sequential\n",
    "from keras.layers import Dense, Embedding, GlobalAveragePooling1D\n",
    "\n",
    "# Basit bir model tanımlama\n",
    "model = Sequential([\n",
    "    Embedding(input_dim=1000, output_dim=64, input_length=10),\n",
    "    GlobalAveragePooling1D(),\n",
    "    Dense(1, activation='sigmoid')\n",
    "])\n",
    "\n",
    "# Modeli derleme\n",
    "model.compile(optimizer='adam', loss='binary_crossentropy', metrics=['accuracy'])\n",
    "\n",
    "# Modeli eğitme veya yükleme\n",
    "# model.fit(...)  # Eğer modelinizi eğitmek istiyorsanız\n",
    "# model = tf.keras.models.load_model('model_path')  # Eğer önceden eğitilmiş bir modeli yüklemek istiyorsanız"
   ]
  },
  {
   "cell_type": "code",
   "execution_count": 27,
   "metadata": {},
   "outputs": [
    {
     "name": "stdout",
     "output_type": "stream",
     "text": [
      "\u001b[1m1/1\u001b[0m \u001b[32m━━━━━━━━━━━━━━━━━━━━\u001b[0m\u001b[37m\u001b[0m \u001b[1m0s\u001b[0m 76ms/step\n",
      "[[0.49681294]\n",
      " [0.49765554]]\n"
     ]
    }
   ],
   "source": [
    "\n",
    "import numpy\n",
    "# Örnek metin verileri\n",
    "text_data = [\"kedi kartal aslan\", \"fok yunus\"]\n",
    "\n",
    "# TextVectorization katmanını oluşturma ve adapte etme\n",
    "vectorize_layer = TextVectorization(\n",
    "    max_tokens=1000,\n",
    "    output_mode='int',\n",
    "    output_sequence_length=10\n",
    ")\n",
    "vectorize_layer.adapt(text_data)\n",
    "\n",
    "# Giriş verisini vektörleştirme\n",
    "input_data = vectorize_layer(text_data)\n",
    "\n",
    "# Yukarıdaki modeli predict et\n",
    "predictions = model.predict(input_data)\n",
    "\n",
    "# Tahminleri yazdırma\n",
    "print(predictions)"
   ]
  },
  {
   "cell_type": "code",
   "execution_count": null,
   "metadata": {},
   "outputs": [],
   "source": []
  }
 ],
 "metadata": {
  "kernelspec": {
   "display_name": "base",
   "language": "python",
   "name": "python3"
  },
  "language_info": {
   "codemirror_mode": {
    "name": "ipython",
    "version": 3
   },
   "file_extension": ".py",
   "mimetype": "text/x-python",
   "name": "python",
   "nbconvert_exporter": "python",
   "pygments_lexer": "ipython3",
   "version": "3.12.4"
  }
 },
 "nbformat": 4,
 "nbformat_minor": 2
}
